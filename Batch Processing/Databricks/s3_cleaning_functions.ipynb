{
 "cells": [
  {
   "cell_type": "code",
   "execution_count": 0,
   "metadata": {
    "application/vnd.databricks.v1+cell": {
     "cellMetadata": {
      "byteLimit": 2048000,
      "rowLimit": 10000
     },
     "inputWidgets": {},
     "nuid": "5b995b28-82f8-427f-8b71-bb6f4e102bcd",
     "showTitle": false,
     "tableResultSettingsMap": {},
     "title": ""
    }
   },
   "outputs": [],
   "source": [
    "from pyspark.sql.functions import *\n",
    "import urllib"
   ]
  },
  {
   "cell_type": "code",
   "execution_count": 0,
   "metadata": {
    "application/vnd.databricks.v1+cell": {
     "cellMetadata": {
      "byteLimit": 2048000,
      "rowLimit": 10000
     },
     "inputWidgets": {},
     "nuid": "3b5a02ce-cdc8-478c-b93b-c883ae495b7c",
     "showTitle": false,
     "tableResultSettingsMap": {},
     "title": ""
    }
   },
   "outputs": [],
   "source": [
    "def read_S3(loc):\n",
    "    file_type = \"json\"\n",
    "    infer_schema = \"true\"\n",
    "\n",
    "    df = pin_df = spark.read.format(file_type) \\\n",
    "        .option(\"inferSchema\", infer_schema) \\\n",
    "        .load(loc)\n",
    "\n",
    "    return df"
   ]
  },
  {
   "cell_type": "code",
   "execution_count": 0,
   "metadata": {
    "application/vnd.databricks.v1+cell": {
     "cellMetadata": {
      "byteLimit": 2048000,
      "rowLimit": 10000
     },
     "inputWidgets": {},
     "nuid": "ee1a24f7-aec6-4ed2-8dca-2939ae841a30",
     "showTitle": false,
     "tableResultSettingsMap": {},
     "title": ""
    }
   },
   "outputs": [],
   "source": [
    "def clean_pin_data(df):\n",
    "    ## Drop duplicates\n",
    "    cleaned_df = df.dropDuplicates()\n",
    "\n",
    "    ## Replace empty entries\n",
    "    cleaned_df = cleaned_df.replace({\"User Info Error\": None}, subset=[\"follower_count\", \"poster_name\"])\n",
    "    cleaned_df = cleaned_df.replace({\"No description available Story format\": None}, subset=[\"description\"])\n",
    "    cleaned_df = cleaned_df.replace({\"N,o, ,T,a,g,s, ,A,v,a,i,l,a,b,l,e\": None}, subset=[\"tag_list\"])\n",
    "    cleaned_df = cleaned_df.replace({\"No Title Data Available\": None}, subset=[\"title\"])\n",
    "    cleaned_df = cleaned_df.replace({\"Image src error.\": None}, subset=[\"image_src\"])\n",
    "\n",
    "    ## Ready follower_count for integer conversion\n",
    "    cleaned_df = cleaned_df.withColumn(\"follower_count\", regexp_replace(\"follower_count\", \"k\", \"000\"))\n",
    "    cleaned_df = cleaned_df.withColumn(\"follower_count\", regexp_replace(\"follower_count\", \"M\", \"000000\"))\n",
    "\n",
    "    ## Convert integer columns to int\n",
    "    cleaned_df = cleaned_df.withColumn(\"follower_count\", cleaned_df[\"follower_count\"].cast(\"int\"))\n",
    "    cleaned_df = cleaned_df.withColumn(\"downloaded\", cleaned_df[\"downloaded\"].cast(\"int\"))\n",
    "    cleaned_df = cleaned_df.withColumn(\"index\", cleaned_df[\"index\"].cast(\"int\"))\n",
    "\n",
    "    ## Clean save_location path\n",
    "    cleaned_df = cleaned_df.withColumn(\"save_location\", regexp_replace(\"save_location\", \"Local save in \", \"\"))\n",
    "\n",
    "    ## Rename index column\n",
    "    cleaned_df = cleaned_df.withColumnRenamed(\"index\", \"ind\")\n",
    "\n",
    "    ## Reorder columns\n",
    "    cleaned_df = cleaned_df.select(\"ind\",\n",
    "                                    \"unique_id\",\n",
    "                                    \"title\",\n",
    "                                    \"description\",\n",
    "                                    \"follower_count\", \n",
    "                                    \"poster_name\", \n",
    "                                    \"tag_list\", \n",
    "                                    \"is_image_or_video\", \n",
    "                                    \"image_src\", \n",
    "                                    \"save_location\", \n",
    "                                    \"category\")\n",
    "    \n",
    "    return cleaned_df"
   ]
  },
  {
   "cell_type": "code",
   "execution_count": 0,
   "metadata": {
    "application/vnd.databricks.v1+cell": {
     "cellMetadata": {
      "byteLimit": 2048000,
      "rowLimit": 10000
     },
     "inputWidgets": {},
     "nuid": "fb383663-9d7d-4468-9bf3-51a966d06662",
     "showTitle": false,
     "tableResultSettingsMap": {},
     "title": ""
    }
   },
   "outputs": [],
   "source": [
    "def clean_geo_data(df):\n",
    "    ## Drop duplicates\n",
    "    cleaned_df = df.dropDuplicates()\n",
    "\n",
    "    ## New column for coordinates\n",
    "    cleaned_df = cleaned_df.withColumn(\"coordinates\", array(\"latitude\", \"longitude\"))\n",
    "\n",
    "    ## Removing old separate columns\n",
    "    cleaned_df = cleaned_df.drop(\"latitude\", \"longitude\")\n",
    "\n",
    "    ## Converting string to timestamp\n",
    "    cleaned_df = cleaned_df.withColumn(\"timestamp\", to_timestamp(\"timestamp\"))\n",
    "\n",
    "    ## Reordering dataframe\n",
    "    cleaned_df = cleaned_df.select(\"ind\", \n",
    "                                    \"country\", \n",
    "                                    \"coordinates\", \n",
    "                                    \"timestamp\")\n",
    "    \n",
    "    return cleaned_df"
   ]
  },
  {
   "cell_type": "code",
   "execution_count": 0,
   "metadata": {
    "application/vnd.databricks.v1+cell": {
     "cellMetadata": {
      "byteLimit": 2048000,
      "rowLimit": 10000
     },
     "inputWidgets": {},
     "nuid": "c62c8865-ae92-4b38-ba70-643c62fcbf14",
     "showTitle": false,
     "tableResultSettingsMap": {},
     "title": ""
    }
   },
   "outputs": [],
   "source": [
    "def clean_user_data(df):\n",
    "    ## Drop duplicates\n",
    "    cleaned_df = df.dropDuplicates()\n",
    "\n",
    "    ## Create username as names concatenated\n",
    "    cleaned_df = cleaned_df.withColumn(\"user_name\", concat(\"first_name\", \"last_name\"))\n",
    "\n",
    "    ## Drop first_name and last_name\n",
    "    cleaned_df = cleaned_df.drop(\"first_name\", \"last_name\")\n",
    "\n",
    "    ## Convert string to timestamp\n",
    "    cleaned_df = cleaned_df.withColumn(\"date_joined\", to_timestamp(\"date_joined\"))\n",
    "\n",
    "    cleaned_df = cleaned_df.select(\"ind\",\n",
    "                                    \"user_name\",\n",
    "                                    \"age\",\n",
    "                                    \"date_joined\")\n",
    "    \n",
    "    return cleaned_df"
   ]
  }
 ],
 "metadata": {
  "application/vnd.databricks.v1+notebook": {
   "computePreferences": null,
   "dashboards": [],
   "environmentMetadata": {
    "base_environment": "",
    "client": "1"
   },
   "language": "python",
   "notebookMetadata": {
    "mostRecentlyExecutedCommandWithImplicitDF": {
     "commandId": 2828674266406254,
     "dataframes": [
      "_sqldf"
     ]
    },
    "pythonIndentUnit": 4
   },
   "notebookName": "s3_cleaning_functions",
   "widgets": {}
  },
  "language_info": {
   "name": "python"
  }
 },
 "nbformat": 4,
 "nbformat_minor": 0
}
